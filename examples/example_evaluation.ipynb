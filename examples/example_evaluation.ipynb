{
 "cells": [
  {
   "cell_type": "markdown",
   "metadata": {},
   "source": [
    "# Evaluate trained DeepParticleNet"
   ]
  },
  {
   "cell_type": "code",
   "execution_count": null,
   "metadata": {
    "scrolled": false
   },
   "outputs": [],
   "source": [
    "import os\n",
    "import sys\n",
    "\n",
    "# Add root directory to the python search path, if it is not already in there.\n",
    "root_dir = os.path.abspath(\"..\")\n",
    "if root_dir not in sys.path:\n",
    "    sys.path.append(root_dir)\n",
    "\n",
    "# Import the DeepParticleNet modules.\n",
    "from dpn.config import Config\n",
    "from dpn.dataset import Dataset\n",
    "from dpn.model import Model\n",
    "from dpn.sizedistribution import SizeDistribution as PSD\n",
    "from dpn import visualize\n",
    "\n",
    "%matplotlib inline \n",
    "\n",
    "dataset_path = os.path.join(root_dir, \"datasets\")\n",
    "dataset_name = \"mpac\""
   ]
  },
  {
   "cell_type": "markdown",
   "metadata": {},
   "source": [
    "## Setup configuration"
   ]
  },
  {
   "cell_type": "code",
   "execution_count": null,
   "metadata": {
    "scrolled": false
   },
   "outputs": [],
   "source": [
    "class MpacConfig(Config):\n",
    "\n",
    "    BACKBONE = \"resnet50\"\n",
    "    USE_PRETRAINED_WEIGHTS = \"coco\"\n",
    "\n",
    "# Load previous configuration and make some adjustments.\n",
    "config = Config.load(log_dir)\n",
    "\n",
    "config.GPU_COUNT = 1\n",
    "config.IMAGES_PER_GPU = 1\n",
    "config.BATCH_SIZE = 1\n",
    "\n",
    "# Minimum probability value to accept a detected instance\n",
    "# ROIs below this threshold are skipped (default: 0.7)\n",
    "config.DETECTION_MIN_CONFIDENCE = 0.5\n",
    "\n",
    "# Non-maximum suppression threshold for detection (default: 0.3)\n",
    "config.DETECTION_NMS_THRESHOLD = 0.3"
   ]
  },
  {
   "cell_type": "markdown",
   "metadata": {},
   "source": [
    "## Load Model"
   ]
  },
  {
   "cell_type": "code",
   "execution_count": null,
   "metadata": {
    "scrolled": false
   },
   "outputs": [],
   "source": [
    "# Create model in inference mode\n",
    "model = Model(mode=\"inference\", \n",
    "              model_dir=model_dir,\n",
    "              config=config)"
   ]
  },
  {
   "cell_type": "code",
   "execution_count": null,
   "metadata": {
    "scrolled": false
   },
   "outputs": [],
   "source": [
    "# Load weights\n",
    "print(\"Loading weights \", weights_path)\n",
    "model.load_weights(weights_path, by_name=True)"
   ]
  },
  {
   "cell_type": "markdown",
   "metadata": {},
   "source": [
    "## Load Test Dataset"
   ]
  },
  {
   "cell_type": "code",
   "execution_count": null,
   "metadata": {
    "scrolled": false
   },
   "outputs": [],
   "source": [
    "# Inherit from the Dataset class.\n",
    "class MpacDataset(Dataset):\n",
    "    MONOCLASS = \"sphere\"  # The dataset only has one class.\n",
    "\n",
    "# Test dataset.\n",
    "dataset_name = \"test_s01\"\n",
    "dataset = MpacDataset()\n",
    "dataset.load_dataset(dataset_path, dataset_name)\n",
    "dataset.prepare()"
   ]
  },
  {
   "cell_type": "markdown",
   "metadata": {},
   "source": [
    "## Run Detection"
   ]
  },
  {
   "cell_type": "code",
   "execution_count": null,
   "metadata": {},
   "outputs": [],
   "source": [
    "results = model.analyze_dataset(dataset)"
   ]
  },
  {
   "cell_type": "code",
   "execution_count": null,
   "metadata": {},
   "outputs": [],
   "source": [
    "results.display_detection_image(2)"
   ]
  },
  {
   "cell_type": "markdown",
   "metadata": {},
   "source": [
    "## Compare PSDs"
   ]
  },
  {
   "cell_type": "code",
   "execution_count": null,
   "metadata": {},
   "outputs": [],
   "source": [
    "results_gt = dataset.get_ground_truth()\n",
    "evaluation_mode = \"maximum_feret_diameter\"\n",
    "psd_gt = results_gt.to_size_distribution(evaluation_mode)\n",
    "\n",
    "psd = results.to_size_distribution(evaluation_mode)"
   ]
  },
  {
   "cell_type": "code",
   "execution_count": null,
   "metadata": {},
   "outputs": [],
   "source": [
    "psd.compare(psd_gt)"
   ]
  },
  {
   "cell_type": "code",
   "execution_count": null,
   "metadata": {},
   "outputs": [],
   "source": [
    "figure_handle = visualize.plot_size_distributions([psd_gt,psd],\n",
    "                                                  [\"Manual\",\"DPN\"],\n",
    "                                                  bins=np.linspace(0,150,31),\n",
    "                                                  ncol=1\n",
    "                                                 )"
   ]
  }
 ],
 "metadata": {
  "kernelspec": {
   "display_name": "Python 3",
   "language": "python",
   "name": "python3"
  },
  "language_info": {
   "codemirror_mode": {
    "name": "ipython",
    "version": 3
   },
   "file_extension": ".py",
   "mimetype": "text/x-python",
   "name": "python",
   "nbconvert_exporter": "python",
   "pygments_lexer": "ipython3",
   "version": "3.5.2"
  }
 },
 "nbformat": 4,
 "nbformat_minor": 2
}
